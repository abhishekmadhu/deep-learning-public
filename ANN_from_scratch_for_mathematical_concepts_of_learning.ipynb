{
  "nbformat": 4,
  "nbformat_minor": 0,
  "metadata": {
    "colab": {
      "name": "XOR ANN from scratch.ipynb",
      "provenance": [],
      "collapsed_sections": [],
      "authorship_tag": "ABX9TyN0WBE/wrDXoDE7Vg9zElDF",
      "include_colab_link": true
    },
    "kernelspec": {
      "name": "python3",
      "display_name": "Python 3"
    },
    "language_info": {
      "name": "python"
    }
  },
  "cells": [
    {
      "cell_type": "markdown",
      "metadata": {
        "id": "view-in-github",
        "colab_type": "text"
      },
      "source": [
        "<a href=\"https://colab.research.google.com/github/abhishekmadhu/deep-learning-public/blob/main/ANN_from_scratch_for_mathematical_concepts_of_learning.ipynb\" target=\"_parent\"><img src=\"https://colab.research.google.com/assets/colab-badge.svg\" alt=\"Open In Colab\"/></a>"
      ]
    },
    {
      "cell_type": "markdown",
      "metadata": {
        "id": "imLY1gUnrEUI"
      },
      "source": [
        "# How a Network Learns"
      ]
    },
    {
      "cell_type": "markdown",
      "metadata": {
        "id": "CZtcuMTYq0s3"
      },
      "source": [
        "In this short demonstration, we will try to understand the mathematics behind forward and backward propagation steps, demonstrating how a neural network \"learns\" information. \n",
        "\n",
        "This code is supplementary material for the online tutorial available in public domain. Please feel free to follow along with the video, or write this down after you understand all the steps. Please do not copy-paste as that is not very helpful with learning the maths. \n",
        "\n",
        "If the steps seems difficult to recall, as mentioned in the video, use flash cards to help retain information. "
      ]
    },
    {
      "cell_type": "code",
      "metadata": {
        "id": "--VFWKDnp_7E"
      },
      "source": [
        "import numpy as np\n",
        "import matplotlib.pyplot as plt\n",
        "%matplotlib inline"
      ],
      "execution_count": 1,
      "outputs": []
    },
    {
      "cell_type": "code",
      "metadata": {
        "id": "2W_UN6s_t_LR"
      },
      "source": [
        "# XOR Training data\n",
        "x = np.array([\n",
        "              [0, 0],\n",
        "              [0,1],\n",
        "              [1,0],\n",
        "              [1,1]\n",
        "])\n",
        "\n",
        "y = np.array([[0], [1], [1], [0]])\n",
        "\n",
        "# You can also uncomment the AND test data below and test with that. \n",
        "# You will need to run all cells again\n",
        "# # AND\n",
        "# x = np.array([\n",
        "#               [0, 0],\n",
        "#               [0,1],\n",
        "#               [1,0],\n",
        "#               [1,1]\n",
        "# ])\n",
        "\n",
        "# y = np.array([[0], [0], [0], [1]])"
      ],
      "execution_count": 2,
      "outputs": []
    },
    {
      "cell_type": "code",
      "metadata": {
        "id": "6BnT_8P1udCL"
      },
      "source": [
        "input_neurons_count = 2\n",
        "hidden_neurons_count = 5\n",
        "output_neurons_count = 1"
      ],
      "execution_count": 3,
      "outputs": []
    },
    {
      "cell_type": "code",
      "metadata": {
        "id": "QpaYQFV-uqwf"
      },
      "source": [
        "# Randomly initialize weights between input and hidden layers\n",
        "Wxh = np.random.randn(input_neurons_count, hidden_neurons_count)\n",
        "\n",
        "# Since all inputs are equally important, the bias can all be 0\n",
        "# The size of the bias matrix should be 1 * <number of neurons in layer>\n",
        "bh = np.zeros((1, hidden_neurons_count))"
      ],
      "execution_count": 4,
      "outputs": []
    },
    {
      "cell_type": "code",
      "metadata": {
        "id": "98_3WHrnv8xL"
      },
      "source": [
        "# Randomly initialize weights between hidden and output layers\n",
        "Why = np.random.randn(hidden_neurons_count, output_neurons_count)\n",
        "\n",
        "# Since all inputs are equally important, the bias can all be 0\n",
        "# The size of the bias matrix should be 1 * <number of neurons in layer>\n",
        "by = np.zeros((1, output_neurons_count))"
      ],
      "execution_count": 5,
      "outputs": []
    },
    {
      "cell_type": "code",
      "metadata": {
        "id": "Lscywbj8wLB0"
      },
      "source": [
        "# Define the sigmoid activation function and its first order derivative\n",
        "def sigmoid(v):\n",
        "  return 1 / ( 1 + np.exp(-v) )\n",
        "\n",
        "def d_sigmoid(v):\n",
        "  return np.exp(-v) / (( 1 + np.exp(-v) ) ** 2)"
      ],
      "execution_count": 6,
      "outputs": []
    },
    {
      "cell_type": "code",
      "metadata": {
        "id": "cP4eWRe_w5yg"
      },
      "source": [
        "# Define the forward propagation\n",
        "def forward_propagation(x, Wxh, Why):\n",
        "  z1 = np.dot(x, Wxh) + bh\n",
        "  # print(f'z1: {z1}')\n",
        "  a1 = sigmoid(z1)\n",
        "  # print(f'a1: {a1}')\n",
        "  z2 = np.dot(a1, Why) + by\n",
        "  # print(f'z2: {z2}')\n",
        "  y_hat = sigmoid(z2)\n",
        "  # print(f'y_hat: {y_hat}')\n",
        "  return z1, a1, z2, y_hat"
      ],
      "execution_count": 7,
      "outputs": []
    },
    {
      "cell_type": "code",
      "metadata": {
        "id": "cbivrrHa0Etj"
      },
      "source": [
        "# Define the backward propagation\n",
        "def backward_propagation(y_hat, z1, a1, z2):\n",
        "  error = y-y_hat\n",
        "  d2 = np.multiply(-error, d_sigmoid(z2))\n",
        "  dj_wrt_dWhy = np.dot(a1.T, d2)\n",
        "  d1 = np.dot(d2, Why.T) * d_sigmoid(z1)\n",
        "  dj_wrt_dWxh = np.dot(x.T, d1)\n",
        "\n",
        "  return dj_wrt_dWxh, dj_wrt_dWhy"
      ],
      "execution_count": 8,
      "outputs": []
    },
    {
      "cell_type": "code",
      "metadata": {
        "id": "2UZS3n0d0_tA"
      },
      "source": [
        "# define the cost function\n",
        "def cost(y, y_hat):\n",
        "  j = 0.5 * sum((y-y_hat)**2)\n",
        "  return j"
      ],
      "execution_count": 9,
      "outputs": []
    },
    {
      "cell_type": "code",
      "metadata": {
        "id": "K_Kuh1RW1RxZ"
      },
      "source": [
        "alpha = 0.01\n",
        "learning_rate = alpha\n",
        "iterations = 50000"
      ],
      "execution_count": 10,
      "outputs": []
    },
    {
      "cell_type": "code",
      "metadata": {
        "id": "15bUVRwa1cQ7"
      },
      "source": [
        "costs = []\n",
        "for i in range(iterations):\n",
        "  # Do one forward and backward pass to get the derivatives\n",
        "  z1, a1, z2, y_hat = forward_propagation(x, Wxh, Why)\n",
        "  # print(f'Iteration {i}: {z1, a1, z2, y_hat}')\n",
        "  dj_wrt_dWxh, dj_wrt_dWhy = backward_propagation(y_hat, z1, a1, z2)\n",
        "\n",
        "  # update the weights\n",
        "  Wxh = Wxh - learning_rate * dj_wrt_dWxh\n",
        "  Why = Why - learning_rate * dj_wrt_dWhy\n",
        "\n",
        "  # calculate the cost\n",
        "  this_iteration_cost = cost(y, y_hat)\n",
        "  # print(f'{i}_iteration_cost: {this_iteration_cost}')\n",
        "  costs.append(this_iteration_cost)"
      ],
      "execution_count": 11,
      "outputs": []
    },
    {
      "cell_type": "code",
      "metadata": {
        "colab": {
          "base_uri": "https://localhost:8080/"
        },
        "id": "DPdpSxSMnes8",
        "outputId": "c7523b81-7e20-42e3-ccd0-d27ba70bfed6"
      },
      "source": [
        "# see the weignts matrix after training\n",
        "print(f'Weights between input layer and hidden layer\\nShape:{Wxh.shape}\\nValues:\\n', Wxh)\n",
        "print('\\n')\n",
        "print(f'Weights between hidden layer and output layer\\nShape:{Why.shape}\\nValues:\\n', Why)"
      ],
      "execution_count": 12,
      "outputs": [
        {
          "output_type": "stream",
          "text": [
            "Weights between input layer and hidden layer\n",
            "Shape:(2, 5)\n",
            "Values:\n",
            " [[ 2.18063739  4.09924985 -4.95665581 -2.94565276 -0.56429287]\n",
            " [-1.31626759  4.39256995  2.47150562  6.1285199  -1.51011008]]\n",
            "\n",
            "\n",
            "Weights between hidden layer and output layer\n",
            "Shape:(5, 1)\n",
            "Values:\n",
            " [[-4.04046127]\n",
            " [ 7.51214956]\n",
            " [ 3.43942177]\n",
            " [-7.07568562]\n",
            " [-3.47761947]]\n"
          ],
          "name": "stdout"
        }
      ]
    },
    {
      "cell_type": "code",
      "metadata": {
        "colab": {
          "base_uri": "https://localhost:8080/",
          "height": 312
        },
        "id": "7O1TFip_266s",
        "outputId": "ba417529-70f4-48fa-990a-62dde5e9782f"
      },
      "source": [
        "plt.grid()\n",
        "plt.plot(range(iterations), costs)\n",
        "plt.title('Cost Function')\n",
        "plt.xlabel('Training Iterations')\n",
        "plt.ylabel('Cost')"
      ],
      "execution_count": 13,
      "outputs": [
        {
          "output_type": "execute_result",
          "data": {
            "text/plain": [
              "Text(0, 0.5, 'Cost')"
            ]
          },
          "metadata": {
            "tags": []
          },
          "execution_count": 13
        },
        {
          "output_type": "display_data",
          "data": {
            "image/png": "[encoded data removed]",
            "text/plain": [
              "<Figure size 432x288 with 1 Axes>"
            ]
          },
          "metadata": {
            "tags": [],
            "needs_background": "light"
          }
        }
      ]
    },
    {
      "cell_type": "code",
      "metadata": {
        "id": "AkBe69Boi08P"
      },
      "source": [
        "# # Try prediction\n",
        "def predict(x_test):\n",
        "  _, __, ___, prediction = forward_propagation(x_test, Wxh, Why)\n",
        "  return prediction\n",
        "\n",
        "def predict_with_threshold(x_test, threshold=0.5):\n",
        "  prediction = predict(x_test)\n",
        "\n",
        "  results = []\n",
        "\n",
        "  for p in prediction:\n",
        "    # print(f'p: {p}')\n",
        "    if p[0] > threshold:\n",
        "      results.append(1)\n",
        "    else:\n",
        "      results.append(0)\n",
        "  \n",
        "  return results"
      ],
      "execution_count": 14,
      "outputs": []
    },
    {
      "cell_type": "code",
      "metadata": {
        "id": "GLmn9ED4mHNz"
      },
      "source": [
        "test_data = [\n",
        "  [1,1], \n",
        "  [0,0], \n",
        "  [1,0],\n",
        "  [0,1]\n",
        "]"
      ],
      "execution_count": 15,
      "outputs": []
    },
    {
      "cell_type": "code",
      "metadata": {
        "colab": {
          "base_uri": "https://localhost:8080/"
        },
        "id": "YNk3BKj-jix2",
        "outputId": "2ad08230-b682-4bbf-b1fc-c7874a5952ac"
      },
      "source": [
        "print(f'y_hat values after forward propagation:\\n {predict(test_data)}')\n",
        "print(f'final predictions: {predict_with_threshold(test_data, threshold=0.8)}')"
      ],
      "execution_count": 16,
      "outputs": [
        {
          "output_type": "stream",
          "text": [
            "y_hat values after forward propagation:\n",
            " [[0.09537209]\n",
            " [0.13930223]\n",
            " [0.89743806]\n",
            " [0.88575926]]\n",
            "final predictions: [0, 0, 1, 1]\n"
          ],
          "name": "stdout"
        }
      ]
    },
    {
      "cell_type": "markdown",
      "metadata": {
        "id": "J1Yjm5dXoiZz"
      },
      "source": [
        "So now we understand the mathematics behing the while system. This tells us that if we can somehow change something into numbers, we can, theoretically, allow the machine to learn the patterns. \n",
        "\n",
        "Constraints in this case could be sheer volume, or mere lack of data, and in those cases, we need tricks to keep the learning going with the limited resources we have. "
      ]
    }
  ]
}